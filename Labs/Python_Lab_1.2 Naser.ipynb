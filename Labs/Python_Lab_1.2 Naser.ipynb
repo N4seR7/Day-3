{
 "cells": [
  {
   "cell_type": "markdown",
   "metadata": {},
   "source": [
    "# Python_Lab_1.2"
   ]
  },
  {
   "cell_type": "markdown",
   "metadata": {},
   "source": [
    "### Task 1: \n",
    "1. Create a tuple with the following details:\n",
    "    - Your favorite movie (string)\n",
    "    - The year it was released (integer)\n",
    "    - Its rating out of 10 (float)\n",
    "    - Whether you have watched it (boolean)\n",
    "2. Print the detailes"
   ]
  },
  {
   "cell_type": "code",
   "execution_count": 1,
   "metadata": {},
   "outputs": [
    {
     "name": "stdout",
     "output_type": "stream",
     "text": [
      "Favorite Movie Details:\n",
      "Movie Name: Inception\n",
      "Release Year: 2010\n",
      "Rating: 8.8\n",
      "Watched: Yes\n"
     ]
    }
   ],
   "source": [
    "# write your code here ^_^\n",
    "# Step 1: Create a tuple with the specified details\n",
    "favorite_movie = (\"Inception\", 2010, 8.8, True)\n",
    "\n",
    "# Step 2: Print the details\n",
    "print(\"Favorite Movie Details:\")\n",
    "print(f\"Movie Name: {favorite_movie[0]}\")\n",
    "print(f\"Release Year: {favorite_movie[1]}\")\n",
    "print(f\"Rating: {favorite_movie[2]}\")\n",
    "print(f\"Watched: {'Yes' if favorite_movie[3] else 'No'}\")\n"
   ]
  },
  {
   "cell_type": "markdown",
   "metadata": {},
   "source": [
    "### Task 2:\n",
    "1. Create a set of 5 favorite colors.\n",
    "2. Print all the colors"
   ]
  },
  {
   "cell_type": "code",
   "execution_count": 2,
   "metadata": {},
   "outputs": [
    {
     "name": "stdout",
     "output_type": "stream",
     "text": [
      "My Favorite Colors:\n",
      "Blue\n",
      "Purple\n",
      "Green\n",
      "Red\n",
      "Yellow\n"
     ]
    }
   ],
   "source": [
    "# write your code here ^_^\n",
    "# Step 1\n",
    "favorite_colors = {\"Blue\", \"Green\", \"Red\", \"Yellow\", \"Purple\"}\n",
    "\n",
    "# Step 2\n",
    "print(\"My Favorite Colors:\")\n",
    "for color in favorite_colors:\n",
    "    print(color)\n"
   ]
  },
  {
   "cell_type": "markdown",
   "metadata": {},
   "source": [
    "### Task 3:\n",
    "1. Create a dictionary to store information about 3 friends (name as key and a tuple with age and favorite hobby as value).\n",
    "2. Print the details of all friends."
   ]
  },
  {
   "cell_type": "code",
   "execution_count": 4,
   "metadata": {},
   "outputs": [
    {
     "name": "stdout",
     "output_type": "stream",
     "text": [
      "Friends' Details:\n",
      "Name: Naser, Age: 25, Favorite Hobby: Reading\n",
      "Name: Mohammed, Age: 23, Favorite Hobby: Gaming\n",
      "Name: Khaled, Age: 26, Favorite Hobby: Swimming\n"
     ]
    }
   ],
   "source": [
    "# write your code here ^_^\n",
    "\n",
    "# Step 1\n",
    "friends = {\n",
    "    \"Naser\": (25, \"Reading\"),\n",
    "    \"Mohammed\": (23, \"Gaming\"),\n",
    "    \"Khaled\": (26, \"Swimming\"),\n",
    "}\n",
    "\n",
    "#step 2\n",
    "print(\"Friends' Details:\")\n",
    "for name, (age, hobby) in friends.items():\n",
    "    print(f\"Name: {name}, Age: {age}, Favorite Hobby: {hobby}\")\n"
   ]
  },
  {
   "cell_type": "markdown",
   "metadata": {},
   "source": [
    "### Task 4:\n",
    "1. Check if you have watched the movie and print an appropriate message.\n",
    "1. Check if a specific color is in your favorite colors set and print its availability status."
   ]
  },
  {
   "cell_type": "code",
   "execution_count": 5,
   "metadata": {},
   "outputs": [
    {
     "name": "stdout",
     "output_type": "stream",
     "text": [
      "I have watched the movie.\n",
      "The color 'Green' is in my favorite colors.\n"
     ]
    }
   ],
   "source": [
    "# write your code here ^_^\n",
    "# step 1\n",
    "favorite_movie = (\"Inception\", 2010, 8.8, True)  # Tuple from Task 1\n",
    "\n",
    "if favorite_movie[3]:  \n",
    "    print(\"I have watched the movie.\")\n",
    "else:\n",
    "    print(\"I have not watched the movie.\")\n",
    "\n",
    "#step 2\n",
    "favorite_colors = {\"Blue\", \"Green\", \"Red\", \"Yellow\", \"Purple\"}  # Set from Task 2\n",
    "color_to_check = \"Green\"\n",
    "\n",
    "if color_to_check in favorite_colors:\n",
    "    print(f\"The color '{color_to_check}' is in my favorite colors.\")\n",
    "else:\n",
    "    print(f\"The color '{color_to_check}' is not in my favorite colors.\")\n"
   ]
  },
  {
   "cell_type": "markdown",
   "metadata": {},
   "source": []
  }
 ],
 "metadata": {
  "kernelspec": {
   "display_name": "Python 3",
   "language": "python",
   "name": "python3"
  },
  "language_info": {
   "codemirror_mode": {
    "name": "ipython",
    "version": 3
   },
   "file_extension": ".py",
   "mimetype": "text/x-python",
   "name": "python",
   "nbconvert_exporter": "python",
   "pygments_lexer": "ipython3",
   "version": "3.12.4"
  }
 },
 "nbformat": 4,
 "nbformat_minor": 2
}
